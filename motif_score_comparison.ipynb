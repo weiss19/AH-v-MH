{
 "cells": [
  {
   "cell_type": "code",
   "execution_count": 1,
   "metadata": {},
   "outputs": [],
   "source": [
    "# 2020-1-1\n",
    "\n",
    "# script to compare the scores for TFBS mapping from fimo across oligo alleles \n",
    "# and find cases where there's a difference in binding site prediction\n",
    "\n",
    "# look for differences across all pairs, but only report as a real difference if qval of at least one of the alleles passes cutoff\n",
    "\n",
    "# goal cols to add to vars_anno:\n",
    "# 1 - blank if no differences that pass qval cutoff, the HGNC symbol of TFs that do have diffs that pass the cutoff, \"TF1,TF2,TF3\" etc.\n",
    "# 2 - 0 if no differences that pass qval cutoff, the score difference (signed, -ve for derived higher and +ve for ancestral higher) for each TF that does \"score1,score2,score3\" etc.\n",
    "# 3 - max score diff (take absolute value to find max, but report here signed)\n",
    "# 4 - qvals of all ancestral TF motifs for TFs with diff that passed qval cutoff \"a-qval1,a-qval2,a-qval3\" etc.\n",
    "# 5 - qvals of all derived TF motifs for TFs with diff that passed qval cutoff \"d-qval1,d-qval2,d-qval3\" etc.\n",
    "\n",
    "# 2020-2-6\n",
    "\n",
    "# finishing up the script so it can be added to vars_anno\n",
    "\n",
    "\n",
    "# 2020-4-6\n",
    "\n",
    "# changing score reported so that it reports the signed report\n",
    "# changing qval to only calculate over mappings over our variant\n",
    "\n",
    "# 2020-5-4\n",
    "\n",
    "# adding export of info on \"best\" mapping (with lowest qval)"
   ]
  },
  {
   "cell_type": "code",
   "execution_count": 2,
   "metadata": {},
   "outputs": [],
   "source": [
    "import pandas as pd\n",
    "import numpy as np\n",
    "import matplotlib.pyplot as plt\n",
    "import sys\n",
    "import os\n",
    "import pysam\n",
    "import statsmodels.stats.multitest as smm"
   ]
  },
  {
   "cell_type": "code",
   "execution_count": 3,
   "metadata": {},
   "outputs": [],
   "source": [
    "#fimo_results = '/Users/cweiss19/Box Sync/MPRA/DATA/databases_for_overlap/TFBS/fimo_out_MPRA/fimo.tsv'\n",
    "fimo_results = '/Users/cweiss19/Box Sync/MPRA/DATA/databases_for_overlap/TFBS/fimo_out_trimmed_direct/fimo.tsv'  # trimmed mapping\n",
    "project_dir = '/Users/cweiss19/Box Sync/MPRA/DATA/databases_for_overlap/TFBS'\n",
    "human_tfs_filename = '/Users/cweiss19/Box Sync/MPRA/DATA/databases_for_overlap/TFBS/Homo_sapiens_2019_12_20_8_14_pm/TF_Information.txt'\n",
    "our_vars_file = '/Users/cweiss19/Box Sync/MPRA/VARs_anno.xlsx'"
   ]
  },
  {
   "cell_type": "code",
   "execution_count": 4,
   "metadata": {},
   "outputs": [],
   "source": [
    "var_location = 115\n",
    "qval_cutoff = 0.05\n",
    "pval_cutoff = 0.0001"
   ]
  },
  {
   "cell_type": "code",
   "execution_count": 5,
   "metadata": {},
   "outputs": [],
   "source": [
    "def get_motif_id_clean(f):\n",
    "    spl = f.split('.')\n",
    "    motif_id_clean = spl[0]\n",
    "    return motif_id_clean\n",
    "\n",
    "def make_tf_motif_id_dict(filename):\n",
    "    df = pd.read_csv(filename, sep='\\t')\n",
    "    df['motif_id_clean'] = df['Motif_ID'].map(get_motif_id_clean)   # removes \".00\"\n",
    "    df2 = df[df['TF_Status'] == 'D']  # only include TFs with directly measured motifs (no inferred motifs)\n",
    "    d = dict(zip(df2['motif_id_clean'], df2['TF_Name']))   # {motif_ID1: 'HGNC1'...}  # want 1:1 of motif to TF, a given TF can have multiple motifs (appear with >1 key)\n",
    "    return d\n",
    "\n",
    "human_tfs = make_tf_motif_id_dict(human_tfs_filename)   # {motif_ID1: 'HGNC1'}\n",
    "#print(human_tfs)"
   ]
  },
  {
   "cell_type": "code",
   "execution_count": 6,
   "metadata": {},
   "outputs": [],
   "source": [
    "def get_oligo(f):\n",
    "    spl = f.split('_')\n",
    "    oligo = spl[0] + '_' + spl[1] + '_' + spl[3]\n",
    "    return oligo\n",
    "\n",
    "# get only allele source\n",
    "def get_allele(f):\n",
    "    spl = f.split('_')\n",
    "    allele = spl[2]\n",
    "    return allele\n",
    "\n",
    "def check_start_stop(g):\n",
    "    stops = g['stop'].tolist()\n",
    "    if not all(x == stops[0] for x in stops):\n",
    "        print('found one')   # make sure all the motifs that start at a given coordinate end at the same coordinate, ran it and they do\n",
    "\n"
   ]
  },
  {
   "cell_type": "code",
   "execution_count": 7,
   "metadata": {},
   "outputs": [],
   "source": [
    "# read in TFBS mapping results, each row is a mapping result with oligo and motif\n",
    "df = pd.read_csv(fimo_results, sep='\\t')\n",
    "df = df.drop(df.tail(3).index)  # there are three random metadata rows at the end"
   ]
  },
  {
   "cell_type": "code",
   "execution_count": 8,
   "metadata": {},
   "outputs": [
    {
     "name": "stdout",
     "output_type": "stream",
     "text": [
      "Empty DataFrame\n",
      "Columns: [motif_id, motif_alt_id, sequence_name, start, stop, strand, score, p-value, q-value, matched_sequence]\n",
      "Index: []\n"
     ]
    }
   ],
   "source": [
    "print(df[df['start'].isnull()])"
   ]
  },
  {
   "cell_type": "code",
   "execution_count": 9,
   "metadata": {},
   "outputs": [],
   "source": [
    "# add column to easily identify where mapping starts and stops in oligo \n",
    "# (sometimes multiple mappings exist between the same oligo and motif)\n",
    "df['start_stop'] = df['start'].astype(int).astype(str) + '_' + df['stop'].astype(int).astype(str)\n",
    "\n",
    "# add oligo name without allele source and allele source in separate cols\n",
    "df['oligo'] = df['sequence_name'].map(get_oligo)\n",
    "df['allele'] = df['sequence_name'].map(get_allele)"
   ]
  },
  {
   "cell_type": "code",
   "execution_count": 10,
   "metadata": {
    "scrolled": true
   },
   "outputs": [
    {
     "name": "stdout",
     "output_type": "stream",
     "text": [
      "   motif_id motif_alt_id                                      sequence_name  \\\n",
      "0  M07609_2     M07609_2   libB_seq274422_Derived_[chr22:45554852-45555051]   \n",
      "1  M07609_2     M07609_2  libB_seq274422_Ancestral_[chr22:45554852-45555...   \n",
      "2  M07609_2     M07609_2  libB_seq252665_Ancestral_[chr22:45554829-45555...   \n",
      "3  M07609_2     M07609_2   libB_seq252665_Derived_[chr22:45554829-45555028]   \n",
      "4  M07625_2     M07625_2    libB_seq306643_Ancestral_[chr2:1156969-1157168]   \n",
      "\n",
      "   start   stop strand    score       p-value       q-value  \\\n",
      "0  138.0  167.0      -  54.5567  3.520000e-18  2.390000e-12   \n",
      "1  138.0  167.0      -  54.5567  3.520000e-18  2.390000e-12   \n",
      "2  161.0  190.0      -  54.5567  3.520000e-18  2.390000e-12   \n",
      "3  161.0  190.0      -  54.5567  3.520000e-18  2.390000e-12   \n",
      "4   17.0   46.0      -  52.0000  1.650000e-17  4.310000e-11   \n",
      "\n",
      "                 matched_sequence start_stop  \\\n",
      "0  ATTGCACCACTGCACTCCAGCCTGGGCGAC    138_167   \n",
      "1  ATTGCACCACTGCACTCCAGCCTGGGCGAC    138_167   \n",
      "2  ATTGCACCACTGCACTCCAGCCTGGGCGAC    161_190   \n",
      "3  ATTGCACCACTGCACTCCAGCCTGGGCGAC    161_190   \n",
      "4  TCTGTCTCTCTCTCTCTCTCTCTCTCTCTC      17_46   \n",
      "\n",
      "                                      oligo     allele  \n",
      "0  libB_seq274422_[chr22:45554852-45555051]    Derived  \n",
      "1  libB_seq274422_[chr22:45554852-45555051]  Ancestral  \n",
      "2  libB_seq252665_[chr22:45554829-45555028]  Ancestral  \n",
      "3  libB_seq252665_[chr22:45554829-45555028]    Derived  \n",
      "4     libB_seq306643_[chr2:1156969-1157168]  Ancestral  \n",
      "                                          motif_id motif_alt_id  \\\n",
      "oligo                                                             \n",
      "libB_seq274422_[chr22:45554852-45555051]  M07609_2     M07609_2   \n",
      "libB_seq274422_[chr22:45554852-45555051]  M07609_2     M07609_2   \n",
      "libB_seq252665_[chr22:45554829-45555028]  M07609_2     M07609_2   \n",
      "libB_seq252665_[chr22:45554829-45555028]  M07609_2     M07609_2   \n",
      "libB_seq306643_[chr2:1156969-1157168]     M07625_2     M07625_2   \n",
      "\n",
      "                                                                              sequence_name  \\\n",
      "oligo                                                                                         \n",
      "libB_seq274422_[chr22:45554852-45555051]   libB_seq274422_Derived_[chr22:45554852-45555051]   \n",
      "libB_seq274422_[chr22:45554852-45555051]  libB_seq274422_Ancestral_[chr22:45554852-45555...   \n",
      "libB_seq252665_[chr22:45554829-45555028]  libB_seq252665_Ancestral_[chr22:45554829-45555...   \n",
      "libB_seq252665_[chr22:45554829-45555028]   libB_seq252665_Derived_[chr22:45554829-45555028]   \n",
      "libB_seq306643_[chr2:1156969-1157168]       libB_seq306643_Ancestral_[chr2:1156969-1157168]   \n",
      "\n",
      "                                          start   stop strand    score  \\\n",
      "oligo                                                                    \n",
      "libB_seq274422_[chr22:45554852-45555051]  138.0  167.0      -  54.5567   \n",
      "libB_seq274422_[chr22:45554852-45555051]  138.0  167.0      -  54.5567   \n",
      "libB_seq252665_[chr22:45554829-45555028]  161.0  190.0      -  54.5567   \n",
      "libB_seq252665_[chr22:45554829-45555028]  161.0  190.0      -  54.5567   \n",
      "libB_seq306643_[chr2:1156969-1157168]      17.0   46.0      -  52.0000   \n",
      "\n",
      "                                               p-value       q-value  \\\n",
      "oligo                                                                  \n",
      "libB_seq274422_[chr22:45554852-45555051]  3.520000e-18  2.390000e-12   \n",
      "libB_seq274422_[chr22:45554852-45555051]  3.520000e-18  2.390000e-12   \n",
      "libB_seq252665_[chr22:45554829-45555028]  3.520000e-18  2.390000e-12   \n",
      "libB_seq252665_[chr22:45554829-45555028]  3.520000e-18  2.390000e-12   \n",
      "libB_seq306643_[chr2:1156969-1157168]     1.650000e-17  4.310000e-11   \n",
      "\n",
      "                                                        matched_sequence  \\\n",
      "oligo                                                                      \n",
      "libB_seq274422_[chr22:45554852-45555051]  ATTGCACCACTGCACTCCAGCCTGGGCGAC   \n",
      "libB_seq274422_[chr22:45554852-45555051]  ATTGCACCACTGCACTCCAGCCTGGGCGAC   \n",
      "libB_seq252665_[chr22:45554829-45555028]  ATTGCACCACTGCACTCCAGCCTGGGCGAC   \n",
      "libB_seq252665_[chr22:45554829-45555028]  ATTGCACCACTGCACTCCAGCCTGGGCGAC   \n",
      "libB_seq306643_[chr2:1156969-1157168]     TCTGTCTCTCTCTCTCTCTCTCTCTCTCTC   \n",
      "\n",
      "                                         start_stop     allele  \n",
      "oligo                                                           \n",
      "libB_seq274422_[chr22:45554852-45555051]    138_167    Derived  \n",
      "libB_seq274422_[chr22:45554852-45555051]    138_167  Ancestral  \n",
      "libB_seq252665_[chr22:45554829-45555028]    161_190  Ancestral  \n",
      "libB_seq252665_[chr22:45554829-45555028]    161_190    Derived  \n",
      "libB_seq306643_[chr2:1156969-1157168]         17_46  Ancestral  \n"
     ]
    }
   ],
   "source": [
    "print(df.head(5))\n",
    "df = df.set_index('oligo')\n",
    "print(df.head(5))"
   ]
  },
  {
   "cell_type": "code",
   "execution_count": 11,
   "metadata": {},
   "outputs": [
    {
     "name": "stdout",
     "output_type": "stream",
     "text": [
      "                                       motif_id motif_alt_id  \\\n",
      "oligo                                                          \n",
      "libA_seq4513_[chr3:11034324-11034523]  M08111_2     M08111_2   \n",
      "libA_seq4513_[chr3:11034324-11034523]  M08111_2     M08111_2   \n",
      "\n",
      "                                                                         sequence_name  \\\n",
      "oligo                                                                                    \n",
      "libA_seq4513_[chr3:11034324-11034523]  libA_seq4513_Ancestral_[chr3:11034324-11034523]   \n",
      "libA_seq4513_[chr3:11034324-11034523]    libA_seq4513_Derived_[chr3:11034324-11034523]   \n",
      "\n",
      "                                       start  stop strand     score   p-value  \\\n",
      "oligo                                                                           \n",
      "libA_seq4513_[chr3:11034324-11034523]   20.0  37.0      -  0.618557  0.000005   \n",
      "libA_seq4513_[chr3:11034324-11034523]   20.0  37.0      - -8.773200  0.000062   \n",
      "\n",
      "                                       q-value    matched_sequence start_stop  \\\n",
      "oligo                                                                           \n",
      "libA_seq4513_[chr3:11034324-11034523]   0.0467  GGAGGGACGCGGGGAAGG      20_37   \n",
      "libA_seq4513_[chr3:11034324-11034523]   0.1020  GGAGGGTCGCGGGGAAGG      20_37   \n",
      "\n",
      "                                          allele  \n",
      "oligo                                             \n",
      "libA_seq4513_[chr3:11034324-11034523]  Ancestral  \n",
      "libA_seq4513_[chr3:11034324-11034523]    Derived  \n"
     ]
    }
   ],
   "source": [
    "print(df[(df['motif_id'] == 'M08111_2') & (df.index == 'libA_seq4513_[chr3:11034324-11034523]') & (df['start_stop'] == '20_37')])"
   ]
  },
  {
   "cell_type": "code",
   "execution_count": 12,
   "metadata": {},
   "outputs": [
    {
     "data": {
      "image/png": "[encoded data removed]",
      "text/plain": [
       "<Figure size 432x288 with 1 Axes>"
      ]
     },
     "metadata": {
      "needs_background": "light"
     },
     "output_type": "display_data"
    },
    {
     "name": "stdout",
     "output_type": "stream",
     "text": [
      "0.0001\n"
     ]
    },
    {
     "data": {
      "image/png": "[encoded data removed]",
      "text/plain": [
       "<Figure size 432x288 with 1 Axes>"
      ]
     },
     "metadata": {
      "needs_background": "light"
     },
     "output_type": "display_data"
    }
   ],
   "source": [
    "df['q-value'].hist(bins=20)\n",
    "plt.show()\n",
    "\n",
    "print(df['p-value'].max())\n",
    "\n",
    "df['p-value'].hist(bins=20)\n",
    "plt.show()\n",
    "\n"
   ]
  },
  {
   "cell_type": "code",
   "execution_count": 13,
   "metadata": {},
   "outputs": [
    {
     "name": "stdout",
     "output_type": "stream",
     "text": [
      "                                                                       oligo\n",
      "libB_seq57029_[chr1:1136106-1136305]    libB_seq57029_[chr1:1136106-1136305]\n",
      "libA_seq229534_[chr1:1197948-1198147]  libA_seq229534_[chr1:1197948-1198147]\n"
     ]
    }
   ],
   "source": [
    "## read in vars_anno\n",
    "\n",
    "df_vars = pd.read_excel(\n",
    "    our_vars_file, \n",
    "    index_col=0, \n",
    "    header=2, \n",
    "    sheet_name=0,\n",
    "    usecols=['oligo_ID', 'chromosome']\n",
    "    )\n",
    "df_vars.drop(df_vars.index[0], inplace=True)\n",
    "index_order = df_vars.index.tolist()\n",
    "\n",
    "## initiate new df with each row an oligo\n",
    "oligo_df = pd.DataFrame(index=index_order)\n",
    "oligo_df['oligo'] = index_order\n",
    "print(oligo_df.head(2))\n",
    "oligo_df['motifs_with_diffs'] = 0\n",
    "oligo_df['TFs'] = 0\n",
    "oligo_df['score_diffs'] = 0\n",
    "oligo_df['max_score_diff'] = 0\n",
    "oligo_df['a_qvals'] = 0\n",
    "oligo_df['d_qvals'] = 0\n",
    "\n",
    "\n"
   ]
  },
  {
   "cell_type": "code",
   "execution_count": 14,
   "metadata": {},
   "outputs": [],
   "source": [
    "## figure out lowest possible mapping score for each motif, \n",
    "# to sub in when can't find mapping result for one allele but have result for the other allele\n",
    "# logic is that if we get mapping for one but not the other, the other had a pval > 1e-04\n",
    "# look at score for highest (worst) pval available for that motif, score can't be any better than that\n",
    "# conservative estimate of score diff (it could be a lot bigger)\n",
    "# make note that this occurred\n",
    "\n",
    "# create dict of motif to score to sub\n",
    "\n",
    "motif_score_sub_d = {}\n",
    "motif_grouped = df.groupby(by='motif_id')\n",
    "for each_motif, mappings in motif_grouped:\n",
    "    sorted_mappings = mappings.sort_values(by='score')  # ascending = true, small to big\n",
    "    lowest_score = sorted_mappings['score'].tolist()[0]  # first item in the list, the lowest score\n",
    "    motif_score_sub_d[each_motif] = lowest_score\n",
    "\n"
   ]
  },
  {
   "cell_type": "code",
   "execution_count": 15,
   "metadata": {},
   "outputs": [
    {
     "name": "stdout",
     "output_type": "stream",
     "text": [
      "libB_seq267795_[chr5:81687895-81688094]\n"
     ]
    }
   ],
   "source": [
    "# score diff = derived - ancestral (negative if derived binds worse, positive if derived binds better)\n",
    "# congruent with logFC (negative means MH downreg, positive means MH upreg)\n",
    "\n",
    "# takes forever\n",
    "\n",
    "res = {}\n",
    "\n",
    "for each_oligo in index_order:\n",
    "    motifs_passing_qval_with_diff = {}\n",
    "    \n",
    "    # check to see if any mappings exist to that oligo\n",
    "    if not each_oligo in df.index.tolist():\n",
    "        motifs_passing_qval_with_diff['no_mappings'] = 0 \n",
    "        res[each_oligo] = motifs_passing_qval_with_diff\n",
    "        print(each_oligo)\n",
    "        continue\n",
    "    \n",
    "    mappings = df.loc[each_oligo, :]\n",
    "    mappings_grouped = mappings.groupby(['motif_id', 'start_stop', 'strand'])  # group the mappings by motif and where the motif maps to\n",
    "    for each_mapping, rows in mappings_grouped:\n",
    "        motif = rows['motif_id'].tolist()[0]\n",
    "        strand = rows['strand'].tolist()[0]\n",
    "        if motif in human_tfs:\n",
    "            tf = human_tfs[motif]\n",
    "        if not motif in human_tfs:\n",
    "            #print('missing motif?', motif)\n",
    "            continue\n",
    "        if len(rows) > 2:  # motifs on opposite strands, won't exist now bc grouping with strand included\n",
    "            print('buh')\n",
    "            print(rows)\n",
    "        if len(rows) == 2:\n",
    "            alleles = rows['allele'].tolist()\n",
    "            if not 'Ancestral' in alleles:\n",
    "                print('buh2')\n",
    "            if not 'Derived' in alleles:\n",
    "                print('buh3')\n",
    "            qvals = rows['q-value'].tolist()\n",
    "            qvals_low_enough = [x for x in qvals if x <= qval_cutoff]\n",
    "            if len(qvals_low_enough) > 0:  # if one of the mappings had a good enough qval\n",
    "                score_a = rows.loc[rows['allele'] == 'Ancestral', 'score'].tolist()[0]\n",
    "                score_d = rows.loc[rows['allele'] == 'Derived', 'score'].tolist()[0]\n",
    "                qval_a = rows.loc[rows['allele'] == 'Ancestral', 'q-value'].tolist()[0]\n",
    "                qval_d = rows.loc[rows['allele'] == 'Derived', 'q-value'].tolist()[0]\n",
    "                score_diff = score_d - score_a\n",
    "                if score_diff == 0:\n",
    "                    continue\n",
    "                motifs_passing_qval_with_diff[each_mapping] = [score_diff, [qval_a, qval_d], 'both']  # both = saw both alleles\n",
    "        if len(rows) == 1:\n",
    "            qval = rows['q-value'].values\n",
    "            if qval <= qval_cutoff:\n",
    "                lowest = motif_score_sub_d[motif]\n",
    "                a = rows['allele'].tolist()[0]\n",
    "                q = rows['q-value'].tolist()[0]\n",
    "                s = rows['score'].tolist()[0]\n",
    "                #print(lowest, s)\n",
    "                if a == 'Ancestral':\n",
    "                    s_diff = lowest - s  # derived - ancestral\n",
    "                    if s_diff != 0:\n",
    "                        motifs_passing_qval_with_diff[each_mapping] = [s_diff, [q, 1], a]\n",
    "                if a == 'Derived':\n",
    "                    s_diff = s - lowest\n",
    "                    if s_diff != 0:\n",
    "                        motifs_passing_qval_with_diff[each_mapping] = [s_diff, [1, q], a]\n",
    "                if s_diff == 0:\n",
    "                    continue\n",
    "                  # if says 1 allele = subbed in lowest score\n",
    "        if len(rows) < 1:\n",
    "            print('buh4')\n",
    "    \n",
    "    # unique set of motifs with diffs\n",
    "    #oligo_df.loc[each_oligo, 'motifs_with_diffs'] = ','.join(list(set([key[0] for key, value in motifs_passing_qval_with_diff.items()])))\n",
    "    res[each_oligo] = motifs_passing_qval_with_diff\n",
    "#print(oligo_df.head(10))\n",
    "#print(res)\n",
    "    \n",
    "        \n",
    "            \n",
    "    \n",
    "    "
   ]
  },
  {
   "cell_type": "code",
   "execution_count": 16,
   "metadata": {},
   "outputs": [
    {
     "name": "stdout",
     "output_type": "stream",
     "text": [
      "14042\n",
      "                                                                       oligo  \\\n",
      "libB_seq57029_[chr1:1136106-1136305]    libB_seq57029_[chr1:1136106-1136305]   \n",
      "libA_seq229534_[chr1:1197948-1198147]  libA_seq229534_[chr1:1197948-1198147]   \n",
      "libB_seq264324_[chr1:1203069-1203268]  libB_seq264324_[chr1:1203069-1203268]   \n",
      "libB_seq75291_[chr1:1500965-1501164]    libB_seq75291_[chr1:1500965-1501164]   \n",
      "libA_seq35918_[chr1:1839919-1840118]    libA_seq35918_[chr1:1839919-1840118]   \n",
      "\n",
      "                                       motifs_with_diffs  TFs  score_diffs  \\\n",
      "libB_seq57029_[chr1:1136106-1136305]                   0    0            0   \n",
      "libA_seq229534_[chr1:1197948-1198147]                  0    0            0   \n",
      "libB_seq264324_[chr1:1203069-1203268]                  0    0            0   \n",
      "libB_seq75291_[chr1:1500965-1501164]                   0    0            0   \n",
      "libA_seq35918_[chr1:1839919-1840118]                   0    0            0   \n",
      "\n",
      "                                       max_score_diff  a_qvals  d_qvals  \n",
      "libB_seq57029_[chr1:1136106-1136305]                0        0        0  \n",
      "libA_seq229534_[chr1:1197948-1198147]               0        0        0  \n",
      "libB_seq264324_[chr1:1203069-1203268]               0        0        0  \n",
      "libB_seq75291_[chr1:1500965-1501164]                0        0        0  \n",
      "libA_seq35918_[chr1:1839919-1840118]                0        0        0  \n",
      "{('M04509_2', '23_34', '+'): [-5.1753, [0.0465, 0.094], 'both'], ('M04529_2', '19_34', '+'): [-9.195872000000001, [0.0385, 0.0823], 'both'], ('M04530_2', '19_34', '+'): [-7.49485, [0.0437, 0.0815], 'both'], ('M08321_2', '22_33', '+'): [-9.267999999999999, [0.0243, 0.0867], 'both'], ('M08878_2', '21_39', '+'): [-4.4129000000000005, [0.0172, 0.057], 'both'], ('M08906_2', '23_37', '+'): [-7.360800000000001, [0.0146, 0.0562], 'both']}\n"
     ]
    }
   ],
   "source": [
    "print(len(res))\n",
    "print(oligo_df.head(5))\n",
    "print(res['libA_seq123041_[chr15:67615042-67615241]'])"
   ]
  },
  {
   "cell_type": "code",
   "execution_count": 17,
   "metadata": {},
   "outputs": [
    {
     "name": "stdout",
     "output_type": "stream",
     "text": [
      "no_mappings libB_seq267795_[chr5:81687895-81688094]\n"
     ]
    }
   ],
   "source": [
    "m_df_l = []\n",
    "\n",
    "def parse_out_mapping_info_into_cols(r):\n",
    "    oligo = r['oligo']\n",
    "    motif_d = res[oligo]\n",
    "    \n",
    "    m_df = pd.DataFrame(columns=['motif', 'start_stop', 'strand', 'tf', 'score_diff', 'qvals', 'oligo', 'which_mapped'], index=motif_d.keys())\n",
    "    \n",
    "    for each_motif, score_info in motif_d.items():\n",
    "        if each_motif == 'no_mappings':\n",
    "            print(each_motif, oligo)\n",
    "            m_df.loc['no_mappings', ['motif', 'start_stop', 'strand', 'tf', 'score_diff', 'qvals', 'oligo', 'which_mapped']] = ['no_mappings', 0, 0, 0, 0, [0], oligo, 0] \n",
    "            continue\n",
    "        motif = each_motif[0]\n",
    "        start_stop = each_motif[1]\n",
    "        strand = each_motif[2]\n",
    "        tf = human_tfs[motif]\n",
    "        score_diff = score_info[0]  \n",
    "        qvals = score_info[1]  # list of two items [aqval, dqval]\n",
    "        allele_info = score_info[2]\n",
    "        \n",
    "        m_df.loc[each_motif, ['motif', 'start_stop', 'strand', 'tf', 'score_diff', 'qvals', 'oligo', 'which_mapped']] = [motif, start_stop, strand, tf, score_diff, qvals, oligo, allele_info]\n",
    "    #print(m_df)\n",
    "    m_df_l.append(m_df)\n",
    "    return r\n",
    "\n",
    "\n",
    "oligo_df = oligo_df.apply(lambda row: parse_out_mapping_info_into_cols(row), axis=1)\n",
    "\n",
    "tfbs_diff_df = pd.concat(m_df_l)\n"
   ]
  },
  {
   "cell_type": "code",
   "execution_count": 18,
   "metadata": {},
   "outputs": [
    {
     "name": "stdout",
     "output_type": "stream",
     "text": [
      "                         motif start_stop strand      tf score_diff  \\\n",
      "(M07610_2, 19_42, +)  M07610_2      19_42      +   PRDM9   -1.23365   \n",
      "(M07843_2, 15_35, +)  M07843_2      15_35      +  ZNF263    4.04122   \n",
      "(M08260_2, 15_35, +)  M08260_2      15_35      +  ZNF467    1.05102   \n",
      "(M08260_2, 29_49, +)  M08260_2      29_49      +  ZNF467   -0.15306   \n",
      "(M08864_2, 28_49, +)  M08864_2      28_49      +   PATZ1   -1.35213   \n",
      "\n",
      "                                 qvals                                 oligo  \\\n",
      "(M07610_2, 19_42, +)  [0.0348, 0.0447]  libB_seq57029_[chr1:1136106-1136305]   \n",
      "(M07843_2, 15_35, +)       [1, 0.0414]  libB_seq57029_[chr1:1136106-1136305]   \n",
      "(M08260_2, 15_35, +)       [1, 0.0301]  libB_seq57029_[chr1:1136106-1136305]   \n",
      "(M08260_2, 29_49, +)       [0.0366, 1]  libB_seq57029_[chr1:1136106-1136305]   \n",
      "(M08864_2, 28_49, +)       [0.0351, 1]  libB_seq57029_[chr1:1136106-1136305]   \n",
      "\n",
      "                     which_mapped  \n",
      "(M07610_2, 19_42, +)         both  \n",
      "(M07843_2, 15_35, +)      Derived  \n",
      "(M08260_2, 15_35, +)      Derived  \n",
      "(M08260_2, 29_49, +)    Ancestral  \n",
      "(M08864_2, 28_49, +)    Ancestral  \n"
     ]
    }
   ],
   "source": [
    "print(tfbs_diff_df.head(5))\n",
    "tfbs_diff_df.to_csv(\n",
    "    '/Users/cweiss19/Box Sync/MPRA/DATA/databases_for_overlap/TFBS/fimo_trimmed_direct_diffs.txt', \n",
    "    sep='\\t', \n",
    "    index=False\n",
    "    #index_label=['motif', 'start_stop', 'strand']\n",
    ")"
   ]
  },
  {
   "cell_type": "code",
   "execution_count": 19,
   "metadata": {},
   "outputs": [
    {
     "name": "stdout",
     "output_type": "stream",
     "text": [
      "28858\n",
      "46471\n",
      "                         motif start_stop strand      tf score_diff  \\\n",
      "(M07610_2, 19_42, +)  M07610_2      19_42      +   PRDM9   -1.23365   \n",
      "(M07843_2, 15_35, +)  M07843_2      15_35      +  ZNF263    4.04122   \n",
      "(M08260_2, 15_35, +)  M08260_2      15_35      +  ZNF467    1.05102   \n",
      "(M08260_2, 29_49, +)  M08260_2      29_49      +  ZNF467   -0.15306   \n",
      "(M08864_2, 28_49, +)  M08864_2      28_49      +   PATZ1   -1.35213   \n",
      "\n",
      "                                 qvals                                 oligo  \\\n",
      "(M07610_2, 19_42, +)  [0.0348, 0.0447]  libB_seq57029_[chr1:1136106-1136305]   \n",
      "(M07843_2, 15_35, +)       [1, 0.0414]  libB_seq57029_[chr1:1136106-1136305]   \n",
      "(M08260_2, 15_35, +)       [1, 0.0301]  libB_seq57029_[chr1:1136106-1136305]   \n",
      "(M08260_2, 29_49, +)       [0.0366, 1]  libB_seq57029_[chr1:1136106-1136305]   \n",
      "(M08864_2, 28_49, +)       [0.0351, 1]  libB_seq57029_[chr1:1136106-1136305]   \n",
      "\n",
      "                     which_mapped abs_score_diff  \n",
      "(M07610_2, 19_42, +)         both        1.23365  \n",
      "(M07843_2, 15_35, +)      Derived        4.04122  \n",
      "(M08260_2, 15_35, +)      Derived        1.05102  \n",
      "(M08260_2, 29_49, +)    Ancestral        0.15306  \n",
      "(M08864_2, 28_49, +)    Ancestral        1.35213  \n",
      "                   motif start_stop strand tf score_diff qvals  \\\n",
      "no_mappings  no_mappings          0      0  0          0   [0]   \n",
      "\n",
      "                                               oligo which_mapped  \\\n",
      "no_mappings  libB_seq267795_[chr5:81687895-81688094]            0   \n",
      "\n",
      "            abs_score_diff  \n",
      "no_mappings              0  \n"
     ]
    }
   ],
   "source": [
    "print(len(tfbs_diff_df[tfbs_diff_df['which_mapped'] == 'both']))\n",
    "print(len(tfbs_diff_df))\n",
    "tfbs_diff_df['abs_score_diff'] = tfbs_diff_df['score_diff'].abs()\n",
    "print(tfbs_diff_df.head(5))\n",
    "\n",
    "print(tfbs_diff_df[tfbs_diff_df['score_diff'] == 0])\n",
    "tfbs_diff_df.to_csv(\n",
    "    '/Users/cweiss19/Box Sync/MPRA/DATA/databases_for_overlap/TFBS/fimo_trimmed_direct_diffs.txt', \n",
    "    sep='\\t', \n",
    "    index=False\n",
    "    #index_label=['motif', 'start_stop', 'strand']\n",
    ")"
   ]
  },
  {
   "cell_type": "code",
   "execution_count": 20,
   "metadata": {},
   "outputs": [
    {
     "name": "stdout",
     "output_type": "stream",
     "text": [
      "                         motif start_stop strand      tf score_diff  \\\n",
      "(M04509_2, 23_34, +)  M04509_2      23_34      +  ZNF281    -5.1753   \n",
      "(M04529_2, 19_34, +)  M04529_2      19_34      +  ZNF444   -9.19587   \n",
      "(M04530_2, 19_34, +)  M04530_2      19_34      +  ZNF444   -7.49485   \n",
      "(M08321_2, 22_33, +)  M08321_2      22_33      +  ZNF281     -9.268   \n",
      "(M08878_2, 21_39, +)  M08878_2      21_39      +  ZBTB17    -4.4129   \n",
      "(M08906_2, 23_37, +)  M08906_2      23_37      +  ZNF281    -7.3608   \n",
      "\n",
      "                                 qvals  \\\n",
      "(M04509_2, 23_34, +)   [0.0465, 0.094]   \n",
      "(M04529_2, 19_34, +)  [0.0385, 0.0823]   \n",
      "(M04530_2, 19_34, +)  [0.0437, 0.0815]   \n",
      "(M08321_2, 22_33, +)  [0.0243, 0.0867]   \n",
      "(M08878_2, 21_39, +)   [0.0172, 0.057]   \n",
      "(M08906_2, 23_37, +)  [0.0146, 0.0562]   \n",
      "\n",
      "                                                         oligo which_mapped  \\\n",
      "(M04509_2, 23_34, +)  libA_seq123041_[chr15:67615042-67615241]         both   \n",
      "(M04529_2, 19_34, +)  libA_seq123041_[chr15:67615042-67615241]         both   \n",
      "(M04530_2, 19_34, +)  libA_seq123041_[chr15:67615042-67615241]         both   \n",
      "(M08321_2, 22_33, +)  libA_seq123041_[chr15:67615042-67615241]         both   \n",
      "(M08878_2, 21_39, +)  libA_seq123041_[chr15:67615042-67615241]         both   \n",
      "(M08906_2, 23_37, +)  libA_seq123041_[chr15:67615042-67615241]         both   \n",
      "\n",
      "                     abs_score_diff  \n",
      "(M04509_2, 23_34, +)         5.1753  \n",
      "(M04529_2, 19_34, +)        9.19587  \n",
      "(M04530_2, 19_34, +)        7.49485  \n",
      "(M08321_2, 22_33, +)          9.268  \n",
      "(M08878_2, 21_39, +)         4.4129  \n",
      "(M08906_2, 23_37, +)         7.3608  \n"
     ]
    }
   ],
   "source": [
    "#print(tfbs_diff_df[(tfbs_diff_df['oligo'] == 'libA_seq123041_[chr15:67615042-67615241]') & (tfbs_diff_df['tf'] == 'FLI1')])\n",
    "print(tfbs_diff_df[tfbs_diff_df['oligo'] == 'libA_seq123041_[chr15:67615042-67615241]'])\n",
    "\n",
    "\n"
   ]
  },
  {
   "cell_type": "code",
   "execution_count": null,
   "metadata": {},
   "outputs": [],
   "source": [
    "#print(oligo_df.head(5))\n",
    "if 'motifs_with_diffs' in oligo_df.columns:\n",
    "    oligo_df = oligo_df.drop('motifs_with_diffs', axis=1)\n",
    "if 'max_score_diff' in oligo_df.columns:\n",
    "    oligo_df = oligo_df.drop('max_score_diff', axis=1)\n",
    "print(oligo_df.head(5))\n",
    "\n",
    "\n",
    "oligo_df['biggest_diff_TF'] = 0\n",
    "oligo_df['biggest_diff_score_diff'] = 0\n",
    "oligo_df['biggest_diff_which_mapped'] = 0\n",
    "oligo_df['biggest_diff_TF_aqval'] = 0\n",
    "oligo_df['biggest_diff_TF_dqval'] = 0\n",
    "oligo_df['which_mapped'] = 0\n",
    "\n",
    "\n",
    "oligo_df['best_mapping_TF'] = 0\n",
    "oligo_df['best_mapping_score_diff'] = 0\n",
    "oligo_df['best_mapping_which_mapped'] = 0\n",
    "oligo_df['best_mapping_TF_aqval'] = 0\n",
    "oligo_df['best_mapping_TF_dqval'] = 0\n",
    "\n",
    "\n"
   ]
  },
  {
   "cell_type": "code",
   "execution_count": null,
   "metadata": {},
   "outputs": [],
   "source": [
    "# iterate over all diffs per oligo and summarize into vars_anno\n",
    "\n",
    "def find_lowest_qval(mpgs):\n",
    "    lowest = 1\n",
    "    lowest_mpg = None\n",
    "    qvals = mpgs['qvals'].tolist()\n",
    "    idx_l = mpgs.index.tolist()\n",
    "    for each_qvals in qvals:\n",
    "        idx = qvals.index(each_qvals)\n",
    "        if len(each_qvals) == 2:\n",
    "            aq = each_qvals[0]\n",
    "            dq = each_qvals[1]\n",
    "        if len(each_qvals) < 2:\n",
    "            continue\n",
    "        if aq < lowest:\n",
    "            lowest = aq\n",
    "            lowest_mpg = idx_l[idx]\n",
    "        if dq < lowest:\n",
    "            lowest = dq\n",
    "            lowest_mpg = idx_l[idx]\n",
    "    #print(lowest_mpg)\n",
    "    return lowest_mpg\n",
    "            \n",
    "\n",
    "diffs_grouped = tfbs_diff_df.groupby('oligo')\n",
    "for each_oligo, diffs in diffs_grouped:\n",
    "    TFs_with_diffs = []\n",
    "    diff_scores = []\n",
    "    allele_mapping = []\n",
    "    a_qvals = []\n",
    "    d_qvals = []\n",
    "    tf_grouped = diffs.groupby('tf')\n",
    "    for each_tf, tf_diffs in tf_grouped:\n",
    "        biggest_diff = tf_diffs[tf_diffs['abs_score_diff'] == tf_diffs['abs_score_diff'].max()]  # FOR THIS TF\n",
    "        if not len(biggest_diff) == 1:\n",
    "            biggest_diff = biggest_diff.iloc[0].to_frame().transpose()\n",
    "            #print(biggest_diff)\n",
    "        TFs_with_diffs.append(biggest_diff['tf'].values[0])\n",
    "        diff_scores.append(biggest_diff['score_diff'].values[0])\n",
    "        allele_mapping.append(biggest_diff['which_mapped'].values[0])\n",
    "        qvals_list = biggest_diff['qvals'].values[0]\n",
    "        #print(qvals_list)\n",
    "        a_qvals.append(qvals_list[0])\n",
    "        if len(qvals_list) == 2:\n",
    "            d_qvals.append(qvals_list[1])\n",
    "        else:\n",
    "            d_qvals.append('0')\n",
    "    diff_scores = [float(x) for x in diff_scores]\n",
    "    \n",
    "    biggest_tf_diff = max(diff_scores, key=abs)\n",
    "    idx = diff_scores.index(biggest_tf_diff)\n",
    "    biggest_tf = TFs_with_diffs[idx]\n",
    "    biggest_tf_a_qval = a_qvals[idx]\n",
    "    biggest_tf_d_qval = d_qvals[idx]\n",
    "    biggest_tf_mapping = allele_mapping[idx]\n",
    "    \n",
    "    #print(biggest_tf)\n",
    "    \n",
    "    diff_scores = [str(x) for x in diff_scores]\n",
    "    a_qvals = [str(x) for x in a_qvals]\n",
    "    d_qvals = [str(x) for x in d_qvals]\n",
    "    \n",
    "    oligo_df.loc[each_oligo, 'TFs'] = ','.join([str(x) for x in TFs_with_diffs])\n",
    "    oligo_df.loc[each_oligo, 'score_diffs'] = ','.join(diff_scores)\n",
    "    oligo_df.loc[each_oligo, 'which_mapped'] = ','.join([str(x) for x in allele_mapping])\n",
    "    oligo_df.loc[each_oligo, 'a_qvals'] = ','.join([str(x) for x in a_qvals])\n",
    "    oligo_df.loc[each_oligo, 'd_qvals'] = ','.join([str(x) for x in d_qvals])\n",
    "    \n",
    "    oligo_df.loc[each_oligo, 'biggest_diff_TF'] = biggest_tf\n",
    "    oligo_df.loc[each_oligo, 'biggest_diff_score_diff'] = biggest_tf_diff\n",
    "    oligo_df.loc[each_oligo, 'biggest_diff_which_mapped'] = biggest_tf_mapping\n",
    "    oligo_df.loc[each_oligo, 'biggest_diff_TF_aqval'] = biggest_tf_a_qval\n",
    "    oligo_df.loc[each_oligo, 'biggest_diff_TF_dqval'] = biggest_tf_d_qval\n",
    "    \n",
    "    # best mapping tf = the tf with the lowest qval in either a or d, and it's score diff\n",
    "    #print(diffs)\n",
    "    lowest_mapping = find_lowest_qval(diffs)\n",
    "    #print(lowest_mapping)\n",
    "    \n",
    "    if lowest_mapping == None:\n",
    "        continue\n",
    "    \n",
    "    #print(diffs.index)\n",
    "    #print(diffs)\n",
    "    #print(type(diffs))\n",
    "        \n",
    "    l_m_score_diff = diffs.loc[[lowest_mapping], 'score_diff'].values[0]\n",
    "    l_m_tf = diffs.loc[[lowest_mapping], 'tf'].values[0]\n",
    "    l_m_which_mapped = diffs.loc[[lowest_mapping], 'which_mapped'].values[0]\n",
    "    l_m_qvals = diffs.loc[[lowest_mapping], 'qvals'].values[0]\n",
    "    l_m_aq = l_m_qvals[0]\n",
    "    if len(l_m_qvals) == 2:\n",
    "        l_m_dq = l_m_qvals[1]\n",
    "    else:\n",
    "        l_m_dq = 1\n",
    "    \n",
    "    #print(l_m_qvals)\n",
    "    \n",
    "    \n",
    "    oligo_df.loc[each_oligo, 'best_mapping_TF'] = l_m_tf\n",
    "    oligo_df.loc[each_oligo, 'best_mapping_score_diff'] = l_m_score_diff\n",
    "    oligo_df.loc[each_oligo, 'best_mapping_which_mapped'] = l_m_which_mapped\n",
    "    oligo_df.loc[each_oligo, 'best_mapping_TF_aqval'] = l_m_aq\n",
    "    oligo_df.loc[each_oligo, 'best_mapping_TF_dqval'] = l_m_dq\n",
    "    \n",
    "    \n",
    "\n",
    "print(oligo_df.head(5))\n",
    "        \n",
    "        "
   ]
  },
  {
   "cell_type": "code",
   "execution_count": null,
   "metadata": {},
   "outputs": [],
   "source": [
    "print(oligo_df.head(2))\n",
    "print(len(oligo_df[oligo_df['biggest_diff_which_mapped'] == 'both']))\n",
    "print(oligo_df['biggest_diff_which_mapped'].value_counts())"
   ]
  },
  {
   "cell_type": "code",
   "execution_count": null,
   "metadata": {},
   "outputs": [],
   "source": [
    "oligo_df.to_csv(\n",
    "    '/Users/cweiss19/Box Sync/MPRA/DATA/databases_for_overlap/TFBS/oligo_tfbs_differences.txt',\n",
    "    sep='\\t',\n",
    "    index=False)"
   ]
  },
  {
   "cell_type": "code",
   "execution_count": null,
   "metadata": {},
   "outputs": [],
   "source": []
  }
 ],
 "metadata": {
  "kernelspec": {
   "display_name": "Python 3",
   "language": "python",
   "name": "python3"
  },
  "language_info": {
   "codemirror_mode": {
    "name": "ipython",
    "version": 3
   },
   "file_extension": ".py",
   "mimetype": "text/x-python",
   "name": "python",
   "nbconvert_exporter": "python",
   "pygments_lexer": "ipython3",
   "version": "3.7.4"
  }
 },
 "nbformat": 4,
 "nbformat_minor": 4
}
